{
  "nbformat": 4,
  "nbformat_minor": 0,
  "metadata": {
    "colab": {
      "provenance": []
    },
    "kernelspec": {
      "name": "python3",
      "display_name": "Python 3"
    },
    "language_info": {
      "name": "python"
    }
  },
  "cells": [
    {
      "cell_type": "markdown",
      "metadata": {
        "id": "view-in-github"
      },
      "source": [
        "<a href=\"https://colab.research.google.com/github/udlbook/udlbook/blob/main/Notebooks/Chap10/10_5_Convolution_For_MNIST.ipynb\" target=\"_parent\"><img src=\"https://colab.research.google.com/assets/colab-badge.svg\" alt=\"Open In Colab\"/></a>"
      ]
    },
    {
      "cell_type": "markdown",
      "source": [
        "# **Notebook 10.5: Convolution for MNIST**\n",
        "\n",
        "This notebook builds a proper network for 2D convolution.  It works with the MNIST dataset (figure 15.15a), which was the original classic dataset for classifying images.  The network will take a 28x28 grayscale image and classify it into one of 10 classes representing a digit.\n",
        "\n",
        "The code is adapted from https://nextjournal.com/gkoehler/pytorch-mnist\n",
        "\n",
        "Work through the cells below, running each cell in turn. In various places you will see the words \"TO DO\". Follow the instructions at these places and make predictions about what is going to happen or write code to complete the functions.\n",
        "\n",
        "Contact me at udlbookmail@gmail.com if you find any mistakes or have any suggestions.\n"
      ],
      "metadata": {
        "id": "t9vk9Elugvmi"
      }
    },
    {
      "cell_type": "code",
      "source": [
        "import torch\n",
        "import torchvision\n",
        "import torch.nn as nn\n",
        "import torch.nn.functional as F\n",
        "import torch.optim as optim\n",
        "import matplotlib.pyplot as plt\n",
        "import random"
      ],
      "metadata": {
        "id": "YrXWAH7sUWvU"
      },
      "execution_count": 4,
      "outputs": []
    },
    {
      "cell_type": "code",
      "source": [
        "# Run this once to load the train and test data straight into a dataloader class\n",
        "# that will provide the batches\n",
        "\n",
        "# (It may complain that some files are missing because the files seem to have been\n",
        "# reorganized on the underlying website, but it still seems to work). If everything is working\n",
        "# properly, then the whole notebook should run to the end without further problems\n",
        "# even before you make changes.\n",
        "batch_size_train = 64\n",
        "batch_size_test = 1000\n",
        "\n",
        "# TODO Change this directory to point towards an existing directory\n",
        "myDir = '/files/'\n",
        "\n",
        "train_loader = torch.utils.data.DataLoader(\n",
        "  torchvision.datasets.MNIST(myDir, train=True, download=True,\n",
        "                             transform=torchvision.transforms.Compose([\n",
        "                               torchvision.transforms.ToTensor(),\n",
        "                               torchvision.transforms.Normalize(\n",
        "                                 (0.1307,), (0.3081,))\n",
        "                             ])),\n",
        "  batch_size=batch_size_train, shuffle=True)\n",
        "\n",
        "test_loader = torch.utils.data.DataLoader(\n",
        "  torchvision.datasets.MNIST(myDir, train=False, download=True,\n",
        "                             transform=torchvision.transforms.Compose([\n",
        "                               torchvision.transforms.ToTensor(),\n",
        "                               torchvision.transforms.Normalize(\n",
        "                                 (0.1307,), (0.3081,))\n",
        "                             ])),\n",
        "  batch_size=batch_size_test, shuffle=True)"
      ],
      "metadata": {
        "id": "wScBGXXFVadm",
        "colab": {
          "base_uri": "https://localhost:8080/"
        },
        "outputId": "c774ebd8-a474-40a3-ed1f-a7c8fa81d54a"
      },
      "execution_count": 2,
      "outputs": [
        {
          "metadata": {
            "tags": null
          },
          "name": "stdout",
          "output_type": "stream",
          "text": [
            "Downloading http://yann.lecun.com/exdb/mnist/train-images-idx3-ubyte.gz\n",
            "Failed to download (trying next):\n",
            "<urlopen error [SSL: CERTIFICATE_VERIFY_FAILED] certificate verify failed: certificate has expired (_ssl.c:1007)>\n",
            "\n",
            "Downloading https://ossci-datasets.s3.amazonaws.com/mnist/train-images-idx3-ubyte.gz\n",
            "Downloading https://ossci-datasets.s3.amazonaws.com/mnist/train-images-idx3-ubyte.gz to /files/MNIST/raw/train-images-idx3-ubyte.gz\n"
          ]
        },
        {
          "metadata": {
            "tags": null
          },
          "name": "stderr",
          "output_type": "stream",
          "text": [
            "100%|██████████| 9.91M/9.91M [00:01<00:00, 5.81MB/s]\n"
          ]
        },
        {
          "metadata": {
            "tags": null
          },
          "name": "stdout",
          "output_type": "stream",
          "text": [
            "Extracting /files/MNIST/raw/train-images-idx3-ubyte.gz to /files/MNIST/raw\n",
            "\n",
            "Downloading http://yann.lecun.com/exdb/mnist/train-labels-idx1-ubyte.gz\n",
            "Failed to download (trying next):\n",
            "<urlopen error [SSL: CERTIFICATE_VERIFY_FAILED] certificate verify failed: certificate has expired (_ssl.c:1007)>\n",
            "\n",
            "Downloading https://ossci-datasets.s3.amazonaws.com/mnist/train-labels-idx1-ubyte.gz\n",
            "Downloading https://ossci-datasets.s3.amazonaws.com/mnist/train-labels-idx1-ubyte.gz to /files/MNIST/raw/train-labels-idx1-ubyte.gz\n"
          ]
        },
        {
          "metadata": {
            "tags": null
          },
          "name": "stderr",
          "output_type": "stream",
          "text": [
            "100%|██████████| 28.9k/28.9k [00:00<00:00, 156kB/s]\n"
          ]
        },
        {
          "metadata": {
            "tags": null
          },
          "name": "stdout",
          "output_type": "stream",
          "text": [
            "Extracting /files/MNIST/raw/train-labels-idx1-ubyte.gz to /files/MNIST/raw\n",
            "\n",
            "Downloading http://yann.lecun.com/exdb/mnist/t10k-images-idx3-ubyte.gz\n",
            "Failed to download (trying next):\n",
            "<urlopen error [SSL: CERTIFICATE_VERIFY_FAILED] certificate verify failed: certificate has expired (_ssl.c:1007)>\n",
            "\n",
            "Downloading https://ossci-datasets.s3.amazonaws.com/mnist/t10k-images-idx3-ubyte.gz\n",
            "Downloading https://ossci-datasets.s3.amazonaws.com/mnist/t10k-images-idx3-ubyte.gz to /files/MNIST/raw/t10k-images-idx3-ubyte.gz\n"
          ]
        },
        {
          "metadata": {
            "tags": null
          },
          "name": "stderr",
          "output_type": "stream",
          "text": [
            "100%|██████████| 1.65M/1.65M [00:01<00:00, 1.44MB/s]\n"
          ]
        },
        {
          "metadata": {
            "tags": null
          },
          "name": "stdout",
          "output_type": "stream",
          "text": [
            "Extracting /files/MNIST/raw/t10k-images-idx3-ubyte.gz to /files/MNIST/raw\n",
            "\n",
            "Downloading http://yann.lecun.com/exdb/mnist/t10k-labels-idx1-ubyte.gz\n",
            "Failed to download (trying next):\n",
            "<urlopen error [SSL: CERTIFICATE_VERIFY_FAILED] certificate verify failed: certificate has expired (_ssl.c:1007)>\n",
            "\n",
            "Downloading https://ossci-datasets.s3.amazonaws.com/mnist/t10k-labels-idx1-ubyte.gz\n",
            "Downloading https://ossci-datasets.s3.amazonaws.com/mnist/t10k-labels-idx1-ubyte.gz to /files/MNIST/raw/t10k-labels-idx1-ubyte.gz\n"
          ]
        },
        {
          "metadata": {
            "tags": null
          },
          "name": "stderr",
          "output_type": "stream",
          "text": [
            "100%|██████████| 4.54k/4.54k [00:00<00:00, 4.35MB/s]"
          ]
        },
        {
          "metadata": {
            "tags": null
          },
          "name": "stdout",
          "output_type": "stream",
          "text": [
            "Extracting /files/MNIST/raw/t10k-labels-idx1-ubyte.gz to /files/MNIST/raw\n",
            "\n"
          ]
        },
        {
          "metadata": {
            "tags": null
          },
          "name": "stderr",
          "output_type": "stream",
          "text": [
            "\n"
          ]
        }
      ]
    },
    {
      "cell_type": "code",
      "source": [
        "# Let's draw some of the training data\n",
        "examples = enumerate(test_loader)\n",
        "batch_idx, (example_data, example_targets) = next(examples)\n",
        "\n",
        "fig = plt.figure()\n",
        "for i in range(6):\n",
        "  plt.subplot(2,3,i+1)\n",
        "  plt.tight_layout()\n",
        "  plt.imshow(example_data[i][0], cmap='gray', interpolation='none')\n",
        "  plt.title(\"Ground Truth: {}\".format(example_targets[i]))\n",
        "  plt.xticks([])\n",
        "  plt.yticks([])\n",
        "plt.show()"
      ],
      "metadata": {
        "id": "8bKADvLHbiV5",
        "colab": {
          "base_uri": "https://localhost:8080/",
          "height": 438
        },
        "outputId": "72a580c2-2400-45a0-b7a3-ecb71a6500d5"
      },
      "execution_count": 5,
      "outputs": [
        {
          "output_type": "display_data",
          "data": {
            "text/plain": [
              "<Figure size 640x480 with 6 Axes>"
            ],
            "image/png": "[encoded data removed]"
          },
          "metadata": {}
        }
      ]
    },
    {
      "cell_type": "markdown",
      "source": [
        "Define the network.  This is a more typical way to define a network than the sequential structure.  We define a class for the network, and define the parameters in the constructor.  Then we use a function called forward to actually run the network.  It's easy to see how you might use residual connections in this format."
      ],
      "metadata": {
        "id": "_sFvRDGrl4qe"
      }
    },
    {
      "cell_type": "code",
      "source": [
        "from os import X_OK\n",
        "# TODO Change this class to implement\n",
        "# 1. A valid convolution with kernel size 5, 1 input channel and 10 output channels\n",
        "# 2. A max pooling operation over a 2x2 area\n",
        "# 3. A Relu\n",
        "# 4. A valid convolution with kernel size 5, 10 input channels and 20 output channels\n",
        "# 5. A 2D Dropout layer\n",
        "# 6. A max pooling operation over a 2x2 area\n",
        "# 7. A relu\n",
        "# 8. A flattening operation\n",
        "# 9. A fully connected layer mapping from (whatever dimensions we are at-- find out using .shape) to 50\n",
        "# 10. A ReLU\n",
        "# 11. A fully connected layer mapping from 50 to 10 dimensions\n",
        "# 12. A softmax function.\n",
        "\n",
        "# Replace this class which implements a minimal network (which still does okay)\n",
        "# MY CODE IS IN THE CODE BLOCK BELOW, saving below code for future reference\n",
        "#class Net(nn.Module):\n",
        "    #def __init__(self):\n",
        "        #super(Net, self).__init__()\n",
        "        # Valid convolution, 1 channel in, 2 channels out, stride 1, kernel size = 3\n",
        "        #self.conv1 = nn.Conv2d(1, 2, kernel_size=3)\n",
        "        # Dropout for convolutions\n",
        "        #self.drop = nn.Dropout2d()\n",
        "        # Fully connected layer\n",
        "        #self.fc1 = nn.Linear(338, 10)\n",
        "\n",
        "    #def forward(self, x):\n",
        "        #x = self.conv1(x)\n",
        "        #x = self.drop(x)\n",
        "        #x = F.max_pool2d(x,2)\n",
        "        #x = F.relu(x)\n",
        "        #x = x.flatten(1)\n",
        "        #x = self.fc1(x)\n",
        "        #x = F.log_softmax(x)\n",
        "        #return x\n",
        "\n",
        "\n",
        "\n",
        "\n"
      ],
      "metadata": {
        "id": "EQkvw2KOPVl7"
      },
      "execution_count": 53,
      "outputs": []
    },
    {
      "cell_type": "code",
      "source": [
        "from os import X_OK\n",
        "# TODO Change this class to implement\n",
        "# 1. A valid convolution with kernel size 5, 1 input channel and 10 output channels\n",
        "# 2. A max pooling operation over a 2x2 area\n",
        "# 3. A Relu\n",
        "# 4. A valid convolution with kernel size 5, 10 input channels and 20 output channels\n",
        "# 5. A 2D Dropout layer\n",
        "# 6. A max pooling operation over a 2x2 area\n",
        "# 7. A relu\n",
        "# 8. A flattening operation\n",
        "# 9. A fully connected layer mapping from (whatever dimensions we are at-- find out using .shape) to 50\n",
        "# 10. A ReLU\n",
        "# 11. A fully connected layer mapping from 50 to 10 dimensions\n",
        "# 12. A softmax function.\n",
        "\n",
        "# Replace this class which implements a minimal network (which still does okay)\n",
        "class Net(nn.Module):\n",
        "    def __init__(self):\n",
        "        super(Net, self).__init__()\n",
        "        # 1. A valid convolution with kernel size 5, 1 input channel and 10 output channels\n",
        "        self.conv1 = nn.Conv2d(1, 10, kernel_size=5)\n",
        "        # 2. A max pooling operation over a 2x2 area\n",
        "        self.pool1 = nn.MaxPool2d(2, 2)\n",
        "        # 3. A Relu\n",
        "        self.relu1 = nn.ReLU()\n",
        "        # 4. A valid convolution with kernel size 5, 10 input channels and 20 output channels\n",
        "        self.conv2 = nn.Conv2d(10, 20, kernel_size=5)\n",
        "        # 5. A 2D Dropout layer\n",
        "        self.drop = nn.Dropout2d()\n",
        "        # 6. A max pooling operation over a 2x2 area\n",
        "        self.pool2 = nn.MaxPool2d(2, 2)\n",
        "        # 7. A relu\n",
        "        self.relu2 = nn.ReLU()\n",
        "        # 8. A flattening operation\n",
        "        self.flatten = nn.Flatten()\n",
        "        # 9. A fully connected layer mapping from (whatever dimensions we are at-- find out using .shape) to 50\n",
        "        # i think 320 should be 338 maybe . . .\n",
        "        self.fc1 = nn.Linear(320, 50)\n",
        "        # 10. A ReLU\n",
        "        self.relu3 = nn.ReLU()\n",
        "        # 11. A fully connected layer mapping from 50 to 10 dimensions\n",
        "        self.fc2 = nn.Linear(50, 10)\n",
        "        # 12. A softmax function.\n",
        "        self.softmax = nn.Softmax()\n",
        "\n",
        "    def forward(self, x):\n",
        "        x = self.conv1(x)\n",
        "        x = F.max_pool2d(x,2)\n",
        "        x = F.relu(x)\n",
        "        x = self.conv2(x)\n",
        "        x = F.dropout2d(x)\n",
        "        x = F.max_pool2d(x,2)\n",
        "        x = F.relu(x)\n",
        "        x = x.flatten(1)\n",
        "        x = self.fc1(x)\n",
        "        x = F.relu(x)\n",
        "        x = self.fc2(x)\n",
        "        x = F.log_softmax(x)\n",
        "        return x\n"
      ],
      "metadata": {
        "id": "_OM817PmjkHU"
      },
      "execution_count": 46,
      "outputs": []
    },
    {
      "cell_type": "code",
      "source": [
        "# He initialization of weights\n",
        "def weights_init(layer_in):\n",
        "  if isinstance(layer_in, nn.Linear):\n",
        "    nn.init.kaiming_uniform_(layer_in.weight)\n",
        "    layer_in.bias.data.fill_(0.0)"
      ],
      "metadata": {
        "id": "qWZtkCZcU_dg"
      },
      "execution_count": 47,
      "outputs": []
    },
    {
      "cell_type": "code",
      "source": [
        "# Create network\n",
        "model = Net()\n",
        "# Initialize model weights\n",
        "model.apply(weights_init)\n",
        "# Define optimizer\n",
        "optimizer = optim.SGD(model.parameters(), lr=0.01, momentum=0.5)"
      ],
      "metadata": {
        "id": "FslroPJJffrh"
      },
      "execution_count": 48,
      "outputs": []
    },
    {
      "cell_type": "code",
      "source": [
        "# Main training routine\n",
        "def train(epoch):\n",
        "  model.train()\n",
        "  # Get each\n",
        "  for batch_idx, (data, target) in enumerate(train_loader):\n",
        "    optimizer.zero_grad()\n",
        "    output = model(data)\n",
        "    loss = F.nll_loss(output, target)\n",
        "    loss.backward()\n",
        "    optimizer.step()\n",
        "    # Store results\n",
        "    if batch_idx % 10 == 0:\n",
        "      print('Train Epoch: {} [{}/{}]\\tLoss: {:.6f}'.format(\n",
        "        epoch, batch_idx * len(data), len(train_loader.dataset), loss.item()))"
      ],
      "metadata": {
        "id": "xKQd9PzkQ766"
      },
      "execution_count": 49,
      "outputs": []
    },
    {
      "cell_type": "code",
      "source": [
        "# Run on test data\n",
        "def test():\n",
        "  model.eval()\n",
        "  test_loss = 0\n",
        "  correct = 0\n",
        "  with torch.no_grad():\n",
        "    for data, target in test_loader:\n",
        "      output = model(data)\n",
        "      test_loss += F.nll_loss(output, target, size_average=False).item()\n",
        "      pred = output.data.max(1, keepdim=True)[1]\n",
        "      correct += pred.eq(target.data.view_as(pred)).sum()\n",
        "  test_loss /= len(test_loader.dataset)\n",
        "  print('\\nTest set: Avg. loss: {:.4f}, Accuracy: {}/{} ({:.0f}%)\\n'.format(\n",
        "    test_loss, correct, len(test_loader.dataset),\n",
        "    100. * correct / len(test_loader.dataset)))"
      ],
      "metadata": {
        "id": "Byn-f7qWRLxX"
      },
      "execution_count": 50,
      "outputs": []
    },
    {
      "cell_type": "code",
      "source": [
        "# Get initial performance\n",
        "test()\n",
        "# Train for three epochs\n",
        "n_epochs = 3\n",
        "for epoch in range(1, n_epochs + 1):\n",
        "  train(epoch)\n",
        "  test()"
      ],
      "metadata": {
        "id": "YgLaex1pfhqz",
        "colab": {
          "base_uri": "https://localhost:8080/"
        },
        "outputId": "1c8cbf93-6d0e-4ceb-b437-33c547424a03"
      },
      "execution_count": 51,
      "outputs": [
        {
          "output_type": "stream",
          "name": "stderr",
          "text": [
            "<ipython-input-46-70628657fc7d>:58: UserWarning: Implicit dimension choice for log_softmax has been deprecated. Change the call to include dim=X as an argument.\n",
            "  x = F.log_softmax(x)\n"
          ]
        },
        {
          "output_type": "stream",
          "name": "stdout",
          "text": [
            "\n",
            "Test set: Avg. loss: 2.5223, Accuracy: 1123/10000 (11%)\n",
            "\n",
            "Train Epoch: 1 [0/60000]\tLoss: 2.297402\n",
            "Train Epoch: 1 [640/60000]\tLoss: 2.265863\n",
            "Train Epoch: 1 [1280/60000]\tLoss: 2.150793\n",
            "Train Epoch: 1 [1920/60000]\tLoss: 2.009317\n",
            "Train Epoch: 1 [2560/60000]\tLoss: 1.803157\n",
            "Train Epoch: 1 [3200/60000]\tLoss: 1.760584\n",
            "Train Epoch: 1 [3840/60000]\tLoss: 1.642051\n",
            "Train Epoch: 1 [4480/60000]\tLoss: 1.507111\n",
            "Train Epoch: 1 [5120/60000]\tLoss: 1.178239\n",
            "Train Epoch: 1 [5760/60000]\tLoss: 0.997399\n",
            "Train Epoch: 1 [6400/60000]\tLoss: 0.867996\n",
            "Train Epoch: 1 [7040/60000]\tLoss: 0.851185\n",
            "Train Epoch: 1 [7680/60000]\tLoss: 0.774822\n",
            "Train Epoch: 1 [8320/60000]\tLoss: 0.904808\n",
            "Train Epoch: 1 [8960/60000]\tLoss: 0.895912\n",
            "Train Epoch: 1 [9600/60000]\tLoss: 0.790124\n",
            "Train Epoch: 1 [10240/60000]\tLoss: 0.683598\n",
            "Train Epoch: 1 [10880/60000]\tLoss: 0.691628\n",
            "Train Epoch: 1 [11520/60000]\tLoss: 0.507730\n",
            "Train Epoch: 1 [12160/60000]\tLoss: 0.687347\n",
            "Train Epoch: 1 [12800/60000]\tLoss: 0.805098\n",
            "Train Epoch: 1 [13440/60000]\tLoss: 0.400287\n",
            "Train Epoch: 1 [14080/60000]\tLoss: 0.415537\n",
            "Train Epoch: 1 [14720/60000]\tLoss: 0.533729\n",
            "Train Epoch: 1 [15360/60000]\tLoss: 0.541293\n",
            "Train Epoch: 1 [16000/60000]\tLoss: 0.458936\n",
            "Train Epoch: 1 [16640/60000]\tLoss: 0.369972\n",
            "Train Epoch: 1 [17280/60000]\tLoss: 0.705297\n",
            "Train Epoch: 1 [17920/60000]\tLoss: 0.544898\n",
            "Train Epoch: 1 [18560/60000]\tLoss: 0.310922\n",
            "Train Epoch: 1 [19200/60000]\tLoss: 0.478067\n",
            "Train Epoch: 1 [19840/60000]\tLoss: 0.455370\n",
            "Train Epoch: 1 [20480/60000]\tLoss: 0.403076\n",
            "Train Epoch: 1 [21120/60000]\tLoss: 0.398745\n",
            "Train Epoch: 1 [21760/60000]\tLoss: 0.442526\n",
            "Train Epoch: 1 [22400/60000]\tLoss: 0.538837\n",
            "Train Epoch: 1 [23040/60000]\tLoss: 0.543612\n",
            "Train Epoch: 1 [23680/60000]\tLoss: 0.419456\n",
            "Train Epoch: 1 [24320/60000]\tLoss: 0.499281\n",
            "Train Epoch: 1 [24960/60000]\tLoss: 0.468861\n",
            "Train Epoch: 1 [25600/60000]\tLoss: 0.527165\n",
            "Train Epoch: 1 [26240/60000]\tLoss: 0.599481\n",
            "Train Epoch: 1 [26880/60000]\tLoss: 0.418690\n",
            "Train Epoch: 1 [27520/60000]\tLoss: 0.570342\n",
            "Train Epoch: 1 [28160/60000]\tLoss: 0.164333\n",
            "Train Epoch: 1 [28800/60000]\tLoss: 0.343273\n",
            "Train Epoch: 1 [29440/60000]\tLoss: 0.420796\n",
            "Train Epoch: 1 [30080/60000]\tLoss: 0.527016\n",
            "Train Epoch: 1 [30720/60000]\tLoss: 0.330633\n",
            "Train Epoch: 1 [31360/60000]\tLoss: 0.438586\n",
            "Train Epoch: 1 [32000/60000]\tLoss: 0.290154\n",
            "Train Epoch: 1 [32640/60000]\tLoss: 0.316619\n",
            "Train Epoch: 1 [33280/60000]\tLoss: 0.520199\n",
            "Train Epoch: 1 [33920/60000]\tLoss: 0.336645\n",
            "Train Epoch: 1 [34560/60000]\tLoss: 0.209462\n",
            "Train Epoch: 1 [35200/60000]\tLoss: 0.406585\n",
            "Train Epoch: 1 [35840/60000]\tLoss: 0.172944\n",
            "Train Epoch: 1 [36480/60000]\tLoss: 0.318315\n",
            "Train Epoch: 1 [37120/60000]\tLoss: 0.219771\n",
            "Train Epoch: 1 [37760/60000]\tLoss: 0.472609\n",
            "Train Epoch: 1 [38400/60000]\tLoss: 0.239505\n",
            "Train Epoch: 1 [39040/60000]\tLoss: 0.249301\n",
            "Train Epoch: 1 [39680/60000]\tLoss: 0.228744\n",
            "Train Epoch: 1 [40320/60000]\tLoss: 0.392937\n",
            "Train Epoch: 1 [40960/60000]\tLoss: 0.338779\n",
            "Train Epoch: 1 [41600/60000]\tLoss: 0.197356\n",
            "Train Epoch: 1 [42240/60000]\tLoss: 0.195318\n",
            "Train Epoch: 1 [42880/60000]\tLoss: 0.294754\n",
            "Train Epoch: 1 [43520/60000]\tLoss: 0.324398\n",
            "Train Epoch: 1 [44160/60000]\tLoss: 0.327945\n",
            "Train Epoch: 1 [44800/60000]\tLoss: 0.186883\n",
            "Train Epoch: 1 [45440/60000]\tLoss: 0.263535\n",
            "Train Epoch: 1 [46080/60000]\tLoss: 0.192758\n",
            "Train Epoch: 1 [46720/60000]\tLoss: 0.305090\n",
            "Train Epoch: 1 [47360/60000]\tLoss: 0.452011\n",
            "Train Epoch: 1 [48000/60000]\tLoss: 0.224928\n",
            "Train Epoch: 1 [48640/60000]\tLoss: 0.218937\n",
            "Train Epoch: 1 [49280/60000]\tLoss: 0.384988\n",
            "Train Epoch: 1 [49920/60000]\tLoss: 0.387847\n",
            "Train Epoch: 1 [50560/60000]\tLoss: 0.275743\n",
            "Train Epoch: 1 [51200/60000]\tLoss: 0.386817\n",
            "Train Epoch: 1 [51840/60000]\tLoss: 0.328265\n",
            "Train Epoch: 1 [52480/60000]\tLoss: 0.211028\n",
            "Train Epoch: 1 [53120/60000]\tLoss: 0.272643\n",
            "Train Epoch: 1 [53760/60000]\tLoss: 0.330177\n",
            "Train Epoch: 1 [54400/60000]\tLoss: 0.261922\n",
            "Train Epoch: 1 [55040/60000]\tLoss: 0.163422\n",
            "Train Epoch: 1 [55680/60000]\tLoss: 0.243899\n",
            "Train Epoch: 1 [56320/60000]\tLoss: 0.269709\n",
            "Train Epoch: 1 [56960/60000]\tLoss: 0.186086\n",
            "Train Epoch: 1 [57600/60000]\tLoss: 0.088145\n",
            "Train Epoch: 1 [58240/60000]\tLoss: 0.156555\n",
            "Train Epoch: 1 [58880/60000]\tLoss: 0.274274\n",
            "Train Epoch: 1 [59520/60000]\tLoss: 0.301033\n",
            "\n",
            "Test set: Avg. loss: 0.2188, Accuracy: 9382/10000 (94%)\n",
            "\n",
            "Train Epoch: 2 [0/60000]\tLoss: 0.183175\n",
            "Train Epoch: 2 [640/60000]\tLoss: 0.333313\n",
            "Train Epoch: 2 [1280/60000]\tLoss: 0.110195\n",
            "Train Epoch: 2 [1920/60000]\tLoss: 0.134720\n",
            "Train Epoch: 2 [2560/60000]\tLoss: 0.296692\n",
            "Train Epoch: 2 [3200/60000]\tLoss: 0.318937\n",
            "Train Epoch: 2 [3840/60000]\tLoss: 0.404927\n",
            "Train Epoch: 2 [4480/60000]\tLoss: 0.274995\n",
            "Train Epoch: 2 [5120/60000]\tLoss: 0.354599\n",
            "Train Epoch: 2 [5760/60000]\tLoss: 0.186663\n",
            "Train Epoch: 2 [6400/60000]\tLoss: 0.253143\n",
            "Train Epoch: 2 [7040/60000]\tLoss: 0.213836\n",
            "Train Epoch: 2 [7680/60000]\tLoss: 0.270479\n",
            "Train Epoch: 2 [8320/60000]\tLoss: 0.083977\n",
            "Train Epoch: 2 [8960/60000]\tLoss: 0.165074\n",
            "Train Epoch: 2 [9600/60000]\tLoss: 0.074952\n",
            "Train Epoch: 2 [10240/60000]\tLoss: 0.273754\n",
            "Train Epoch: 2 [10880/60000]\tLoss: 0.394421\n",
            "Train Epoch: 2 [11520/60000]\tLoss: 0.222410\n",
            "Train Epoch: 2 [12160/60000]\tLoss: 0.152925\n",
            "Train Epoch: 2 [12800/60000]\tLoss: 0.230706\n",
            "Train Epoch: 2 [13440/60000]\tLoss: 0.289025\n",
            "Train Epoch: 2 [14080/60000]\tLoss: 0.226335\n",
            "Train Epoch: 2 [14720/60000]\tLoss: 0.245952\n",
            "Train Epoch: 2 [15360/60000]\tLoss: 0.115744\n",
            "Train Epoch: 2 [16000/60000]\tLoss: 0.134881\n",
            "Train Epoch: 2 [16640/60000]\tLoss: 0.110915\n",
            "Train Epoch: 2 [17280/60000]\tLoss: 0.159700\n",
            "Train Epoch: 2 [17920/60000]\tLoss: 0.079154\n",
            "Train Epoch: 2 [18560/60000]\tLoss: 0.145704\n",
            "Train Epoch: 2 [19200/60000]\tLoss: 0.355714\n",
            "Train Epoch: 2 [19840/60000]\tLoss: 0.176354\n",
            "Train Epoch: 2 [20480/60000]\tLoss: 0.236505\n",
            "Train Epoch: 2 [21120/60000]\tLoss: 0.287009\n",
            "Train Epoch: 2 [21760/60000]\tLoss: 0.156212\n",
            "Train Epoch: 2 [22400/60000]\tLoss: 0.165655\n",
            "Train Epoch: 2 [23040/60000]\tLoss: 0.177193\n",
            "Train Epoch: 2 [23680/60000]\tLoss: 0.128933\n",
            "Train Epoch: 2 [24320/60000]\tLoss: 0.167995\n",
            "Train Epoch: 2 [24960/60000]\tLoss: 0.146256\n",
            "Train Epoch: 2 [25600/60000]\tLoss: 0.066954\n",
            "Train Epoch: 2 [26240/60000]\tLoss: 0.252125\n",
            "Train Epoch: 2 [26880/60000]\tLoss: 0.071109\n",
            "Train Epoch: 2 [27520/60000]\tLoss: 0.297536\n",
            "Train Epoch: 2 [28160/60000]\tLoss: 0.233785\n",
            "Train Epoch: 2 [28800/60000]\tLoss: 0.177271\n",
            "Train Epoch: 2 [29440/60000]\tLoss: 0.323072\n",
            "Train Epoch: 2 [30080/60000]\tLoss: 0.203463\n",
            "Train Epoch: 2 [30720/60000]\tLoss: 0.213725\n",
            "Train Epoch: 2 [31360/60000]\tLoss: 0.154771\n",
            "Train Epoch: 2 [32000/60000]\tLoss: 0.122443\n",
            "Train Epoch: 2 [32640/60000]\tLoss: 0.161403\n",
            "Train Epoch: 2 [33280/60000]\tLoss: 0.114535\n",
            "Train Epoch: 2 [33920/60000]\tLoss: 0.143071\n",
            "Train Epoch: 2 [34560/60000]\tLoss: 0.060672\n",
            "Train Epoch: 2 [35200/60000]\tLoss: 0.226696\n",
            "Train Epoch: 2 [35840/60000]\tLoss: 0.328238\n",
            "Train Epoch: 2 [36480/60000]\tLoss: 0.302488\n",
            "Train Epoch: 2 [37120/60000]\tLoss: 0.091743\n",
            "Train Epoch: 2 [37760/60000]\tLoss: 0.185973\n",
            "Train Epoch: 2 [38400/60000]\tLoss: 0.051002\n",
            "Train Epoch: 2 [39040/60000]\tLoss: 0.206161\n",
            "Train Epoch: 2 [39680/60000]\tLoss: 0.264560\n",
            "Train Epoch: 2 [40320/60000]\tLoss: 0.392743\n",
            "Train Epoch: 2 [40960/60000]\tLoss: 0.093870\n",
            "Train Epoch: 2 [41600/60000]\tLoss: 0.205935\n",
            "Train Epoch: 2 [42240/60000]\tLoss: 0.177117\n",
            "Train Epoch: 2 [42880/60000]\tLoss: 0.227524\n",
            "Train Epoch: 2 [43520/60000]\tLoss: 0.416813\n",
            "Train Epoch: 2 [44160/60000]\tLoss: 0.171313\n",
            "Train Epoch: 2 [44800/60000]\tLoss: 0.080859\n",
            "Train Epoch: 2 [45440/60000]\tLoss: 0.100896\n",
            "Train Epoch: 2 [46080/60000]\tLoss: 0.133497\n",
            "Train Epoch: 2 [46720/60000]\tLoss: 0.072615\n",
            "Train Epoch: 2 [47360/60000]\tLoss: 0.263302\n",
            "Train Epoch: 2 [48000/60000]\tLoss: 0.193154\n",
            "Train Epoch: 2 [48640/60000]\tLoss: 0.232915\n",
            "Train Epoch: 2 [49280/60000]\tLoss: 0.121696\n",
            "Train Epoch: 2 [49920/60000]\tLoss: 0.451991\n",
            "Train Epoch: 2 [50560/60000]\tLoss: 0.260134\n",
            "Train Epoch: 2 [51200/60000]\tLoss: 0.221197\n",
            "Train Epoch: 2 [51840/60000]\tLoss: 0.169514\n",
            "Train Epoch: 2 [52480/60000]\tLoss: 0.267549\n",
            "Train Epoch: 2 [53120/60000]\tLoss: 0.088427\n",
            "Train Epoch: 2 [53760/60000]\tLoss: 0.398170\n",
            "Train Epoch: 2 [54400/60000]\tLoss: 0.183663\n",
            "Train Epoch: 2 [55040/60000]\tLoss: 0.179305\n",
            "Train Epoch: 2 [55680/60000]\tLoss: 0.163552\n",
            "Train Epoch: 2 [56320/60000]\tLoss: 0.121796\n",
            "Train Epoch: 2 [56960/60000]\tLoss: 0.132453\n",
            "Train Epoch: 2 [57600/60000]\tLoss: 0.301557\n",
            "Train Epoch: 2 [58240/60000]\tLoss: 0.253276\n",
            "Train Epoch: 2 [58880/60000]\tLoss: 0.149079\n",
            "Train Epoch: 2 [59520/60000]\tLoss: 0.158593\n",
            "\n",
            "Test set: Avg. loss: 0.1504, Accuracy: 9562/10000 (96%)\n",
            "\n",
            "Train Epoch: 3 [0/60000]\tLoss: 0.244935\n",
            "Train Epoch: 3 [640/60000]\tLoss: 0.181347\n",
            "Train Epoch: 3 [1280/60000]\tLoss: 0.146348\n",
            "Train Epoch: 3 [1920/60000]\tLoss: 0.110575\n",
            "Train Epoch: 3 [2560/60000]\tLoss: 0.033284\n",
            "Train Epoch: 3 [3200/60000]\tLoss: 0.068653\n",
            "Train Epoch: 3 [3840/60000]\tLoss: 0.311078\n",
            "Train Epoch: 3 [4480/60000]\tLoss: 0.234670\n",
            "Train Epoch: 3 [5120/60000]\tLoss: 0.064551\n",
            "Train Epoch: 3 [5760/60000]\tLoss: 0.090268\n",
            "Train Epoch: 3 [6400/60000]\tLoss: 0.440354\n",
            "Train Epoch: 3 [7040/60000]\tLoss: 0.104553\n",
            "Train Epoch: 3 [7680/60000]\tLoss: 0.086022\n",
            "Train Epoch: 3 [8320/60000]\tLoss: 0.085044\n",
            "Train Epoch: 3 [8960/60000]\tLoss: 0.055036\n",
            "Train Epoch: 3 [9600/60000]\tLoss: 0.089888\n",
            "Train Epoch: 3 [10240/60000]\tLoss: 0.078667\n",
            "Train Epoch: 3 [10880/60000]\tLoss: 0.035763\n",
            "Train Epoch: 3 [11520/60000]\tLoss: 0.081894\n",
            "Train Epoch: 3 [12160/60000]\tLoss: 0.141655\n",
            "Train Epoch: 3 [12800/60000]\tLoss: 0.216901\n",
            "Train Epoch: 3 [13440/60000]\tLoss: 0.084334\n",
            "Train Epoch: 3 [14080/60000]\tLoss: 0.067588\n",
            "Train Epoch: 3 [14720/60000]\tLoss: 0.139014\n",
            "Train Epoch: 3 [15360/60000]\tLoss: 0.121324\n",
            "Train Epoch: 3 [16000/60000]\tLoss: 0.099020\n",
            "Train Epoch: 3 [16640/60000]\tLoss: 0.338872\n",
            "Train Epoch: 3 [17280/60000]\tLoss: 0.144108\n",
            "Train Epoch: 3 [17920/60000]\tLoss: 0.202009\n",
            "Train Epoch: 3 [18560/60000]\tLoss: 0.115055\n",
            "Train Epoch: 3 [19200/60000]\tLoss: 0.071083\n",
            "Train Epoch: 3 [19840/60000]\tLoss: 0.202776\n",
            "Train Epoch: 3 [20480/60000]\tLoss: 0.140544\n",
            "Train Epoch: 3 [21120/60000]\tLoss: 0.115787\n",
            "Train Epoch: 3 [21760/60000]\tLoss: 0.028301\n",
            "Train Epoch: 3 [22400/60000]\tLoss: 0.041742\n",
            "Train Epoch: 3 [23040/60000]\tLoss: 0.073017\n",
            "Train Epoch: 3 [23680/60000]\tLoss: 0.121631\n",
            "Train Epoch: 3 [24320/60000]\tLoss: 0.333762\n",
            "Train Epoch: 3 [24960/60000]\tLoss: 0.202931\n",
            "Train Epoch: 3 [25600/60000]\tLoss: 0.131240\n",
            "Train Epoch: 3 [26240/60000]\tLoss: 0.106401\n",
            "Train Epoch: 3 [26880/60000]\tLoss: 0.032088\n",
            "Train Epoch: 3 [27520/60000]\tLoss: 0.153302\n",
            "Train Epoch: 3 [28160/60000]\tLoss: 0.111715\n",
            "Train Epoch: 3 [28800/60000]\tLoss: 0.207092\n",
            "Train Epoch: 3 [29440/60000]\tLoss: 0.105491\n",
            "Train Epoch: 3 [30080/60000]\tLoss: 0.225624\n",
            "Train Epoch: 3 [30720/60000]\tLoss: 0.119734\n",
            "Train Epoch: 3 [31360/60000]\tLoss: 0.151007\n",
            "Train Epoch: 3 [32000/60000]\tLoss: 0.306562\n",
            "Train Epoch: 3 [32640/60000]\tLoss: 0.186814\n",
            "Train Epoch: 3 [33280/60000]\tLoss: 0.078250\n",
            "Train Epoch: 3 [33920/60000]\tLoss: 0.133974\n",
            "Train Epoch: 3 [34560/60000]\tLoss: 0.144365\n",
            "Train Epoch: 3 [35200/60000]\tLoss: 0.082676\n",
            "Train Epoch: 3 [35840/60000]\tLoss: 0.275055\n",
            "Train Epoch: 3 [36480/60000]\tLoss: 0.136391\n",
            "Train Epoch: 3 [37120/60000]\tLoss: 0.210619\n",
            "Train Epoch: 3 [37760/60000]\tLoss: 0.176096\n",
            "Train Epoch: 3 [38400/60000]\tLoss: 0.164841\n",
            "Train Epoch: 3 [39040/60000]\tLoss: 0.056544\n",
            "Train Epoch: 3 [39680/60000]\tLoss: 0.224549\n",
            "Train Epoch: 3 [40320/60000]\tLoss: 0.144570\n",
            "Train Epoch: 3 [40960/60000]\tLoss: 0.104354\n",
            "Train Epoch: 3 [41600/60000]\tLoss: 0.131248\n",
            "Train Epoch: 3 [42240/60000]\tLoss: 0.177829\n",
            "Train Epoch: 3 [42880/60000]\tLoss: 0.112571\n",
            "Train Epoch: 3 [43520/60000]\tLoss: 0.249070\n",
            "Train Epoch: 3 [44160/60000]\tLoss: 0.136085\n",
            "Train Epoch: 3 [44800/60000]\tLoss: 0.073286\n",
            "Train Epoch: 3 [45440/60000]\tLoss: 0.112519\n",
            "Train Epoch: 3 [46080/60000]\tLoss: 0.190153\n",
            "Train Epoch: 3 [46720/60000]\tLoss: 0.348323\n",
            "Train Epoch: 3 [47360/60000]\tLoss: 0.346086\n",
            "Train Epoch: 3 [48000/60000]\tLoss: 0.106284\n",
            "Train Epoch: 3 [48640/60000]\tLoss: 0.100945\n",
            "Train Epoch: 3 [49280/60000]\tLoss: 0.096432\n",
            "Train Epoch: 3 [49920/60000]\tLoss: 0.131069\n",
            "Train Epoch: 3 [50560/60000]\tLoss: 0.152483\n",
            "Train Epoch: 3 [51200/60000]\tLoss: 0.176808\n",
            "Train Epoch: 3 [51840/60000]\tLoss: 0.188919\n",
            "Train Epoch: 3 [52480/60000]\tLoss: 0.361250\n",
            "Train Epoch: 3 [53120/60000]\tLoss: 0.181188\n",
            "Train Epoch: 3 [53760/60000]\tLoss: 0.136448\n",
            "Train Epoch: 3 [54400/60000]\tLoss: 0.135139\n",
            "Train Epoch: 3 [55040/60000]\tLoss: 0.154437\n",
            "Train Epoch: 3 [55680/60000]\tLoss: 0.141040\n",
            "Train Epoch: 3 [56320/60000]\tLoss: 0.035591\n",
            "Train Epoch: 3 [56960/60000]\tLoss: 0.067942\n",
            "Train Epoch: 3 [57600/60000]\tLoss: 0.125560\n",
            "Train Epoch: 3 [58240/60000]\tLoss: 0.055360\n",
            "Train Epoch: 3 [58880/60000]\tLoss: 0.089583\n",
            "Train Epoch: 3 [59520/60000]\tLoss: 0.049176\n",
            "\n",
            "Test set: Avg. loss: 0.1203, Accuracy: 9629/10000 (96%)\n",
            "\n"
          ]
        }
      ]
    },
    {
      "cell_type": "code",
      "source": [
        "# Run network on data we got before and show predictions\n",
        "output = model(example_data)\n",
        "\n",
        "fig = plt.figure()\n",
        "for i in range(10):\n",
        "  plt.subplot(5,5,i+1)\n",
        "  plt.tight_layout()\n",
        "  plt.imshow(example_data[i][0], cmap='gray', interpolation='none')\n",
        "  plt.title(\"Prediction: {}\".format(\n",
        "    output.data.max(1, keepdim=True)[1][i].item()))\n",
        "  plt.xticks([])\n",
        "  plt.yticks([])\n",
        "plt.show()"
      ],
      "metadata": {
        "id": "o7fRUAy9Se1B",
        "colab": {
          "base_uri": "https://localhost:8080/",
          "height": 262
        },
        "outputId": "5c616736-7027-456f-d760-83ab6fa7c178"
      },
      "execution_count": 52,
      "outputs": [
        {
          "output_type": "stream",
          "name": "stderr",
          "text": [
            "<ipython-input-46-70628657fc7d>:58: UserWarning: Implicit dimension choice for log_softmax has been deprecated. Change the call to include dim=X as an argument.\n",
            "  x = F.log_softmax(x)\n"
          ]
        },
        {
          "output_type": "display_data",
          "data": {
            "text/plain": [
              "<Figure size 640x480 with 10 Axes>"
            ],
            "image/png": "[encoded data removed]"
          },
          "metadata": {}
        }
      ]
    }
  ]
}